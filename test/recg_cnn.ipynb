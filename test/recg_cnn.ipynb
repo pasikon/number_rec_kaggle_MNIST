{
 "cells": [
  {
   "cell_type": "code",
   "execution_count": 20,
   "metadata": {},
   "outputs": [],
   "source": [
    "import tensorflow as tf\n",
    "from tensorflow.python.framework import ops\n",
    "\n",
    "from test.imgload.imgload import loaddta\n",
    "\n",
    "import matplotlib.pyplot as plt\n",
    "import matplotlib.cm as cm\n",
    "\n",
    "from test.convolutional.convlayers import bias_variable\n",
    "from test.convolutional.convlayers import conv2d\n",
    "from test.convolutional.convlayers import conv_layer\n",
    "from test.convolutional.convlayers import full_layer\n",
    "from test.convolutional.convlayers import max_pool_2x2\n",
    "\n",
    "def display(img):\n",
    "    # (784) => (28,28)\n",
    "    one_image = img.reshape(28, 28)\n",
    "    plt.axis('off')\n",
    "    plt.imshow(one_image, cmap=cm.binary)\n",
    "    plt.show()\n"
   ]
  },
  {
   "cell_type": "markdown",
   "metadata": {},
   "source": [
    "load img"
   ]
  },
  {
   "cell_type": "code",
   "execution_count": 50,
   "metadata": {},
   "outputs": [
    {
     "name": "stdout",
     "output_type": "stream",
     "text": [
      "image_size => 784\n",
      "image_width => 28\n",
      "image_height => 28\n",
      "X_train shape:(784, 39000)\n",
      "Y_train shape:(39000, 10)\n",
      "X_test shape:(784, 2998)\n",
      "Y_test shape:(2998, 10)\n"
     ]
    }
   ],
   "source": [
    "X_loaded, Y_loaded = loaddta('../input/train.csv')\n",
    "\n",
    "X_train = X_loaded[:, 0:39000]\n",
    "Y_train = Y_loaded[:, 0:39000].T\n",
    "X_test = X_loaded[:, 39001:41999]\n",
    "Y_test = Y_loaded[:, 39001:41999].T\n",
    "\n",
    "\n",
    "print('X_train shape:' + str(X_train.shape))\n",
    "print('Y_train shape:' + str(Y_train.shape))\n",
    "print('X_test shape:' + str(X_test.shape))\n",
    "print('Y_test shape:' + str(Y_test.shape))"
   ]
  },
  {
   "cell_type": "markdown",
   "metadata": {},
   "source": [
    "###### reshape:"
   ]
  },
  {
   "cell_type": "code",
   "execution_count": 51,
   "metadata": {},
   "outputs": [
    {
     "name": "stdout",
     "output_type": "stream",
     "text": [
      "x_images_train shape:(39000, 28, 28, 1)\n",
      "x_images_test shape:(2998, 28, 28, 1)\n"
     ]
    }
   ],
   "source": [
    "x_images_train = tf.reshape(X_train, [-1, 28, 28, 1])\n",
    "x_images_test = tf.reshape(X_test, [-1, 28, 28, 1])\n",
    "\n",
    "print('x_images_train shape:' + str(x_images_train.shape))\n",
    "print('x_images_test shape:' + str(x_images_test.shape))"
   ]
  },
  {
   "cell_type": "markdown",
   "metadata": {},
   "source": [
    "###### display img:"
   ]
  },
  {
   "cell_type": "code",
   "execution_count": 24,
   "metadata": {
    "scrolled": true
   },
   "outputs": [
    {
     "data": {
      "image/png": "[encoded data removed]",
      "text/plain": [
       "<matplotlib.figure.Figure at 0x2922537ba20>"
      ]
     },
     "metadata": {},
     "output_type": "display_data"
    }
   ],
   "source": [
    "display(X_train[:, 1701])"
   ]
  },
  {
   "cell_type": "markdown",
   "metadata": {},
   "source": [
    "###### Placeholders:"
   ]
  },
  {
   "cell_type": "code",
   "execution_count": 26,
   "metadata": {},
   "outputs": [],
   "source": [
    "#TODO: use later for minibatch\n",
    "\n",
    "x = tf.placeholder(tf.float32, shape=[None, 784])\n",
    "y_ = tf.placeholder(tf.float32, shape=[None, 10])"
   ]
  },
  {
   "cell_type": "code",
   "execution_count": 54,
   "metadata": {},
   "outputs": [],
   "source": [
    "x_images_train = tf.cast(x_images_train, tf.float32)\n",
    "\n",
    "conv1 = conv_layer(x_images_train, shape=[5, 5, 1, 32])\n",
    "conv1_pool = max_pool_2x2(conv1)\n",
    "\n",
    "conv2 = conv_layer(conv1_pool, shape=[5, 5, 32, 64])\n",
    "conv2_pool = max_pool_2x2(conv2)\n",
    "\n",
    "conv2_flat = tf.reshape(conv2_pool, [-1, 7*7*64])\n",
    "full_1 = tf.nn.relu(full_layer(conv2_flat, 1024))\n",
    "\n",
    "keep_prob = tf.placeholder(tf.float32)\n",
    "full1_drop = tf.nn.dropout(full_1, keep_prob=keep_prob)\n",
    "\n",
    "y_conv = full_layer(full1_drop, 10)\n",
    "\n",
    "cross_entropy = tf.reduce_mean(tf.nn.softmax_cross_entropy_with_logits(logits=y_conv, labels=Y_train))\n",
    "train_step = tf.train.AdamOptimizer(1e-4).minimize(cross_entropy)\n",
    "correct_prediction = tf.equal(tf.argmax(y_conv, 1), tf.argmax(Y_train, 1))\n",
    "accuracy = tf.reduce_mean(tf.cast(correct_prediction, tf.float32))"
   ]
  },
  {
   "cell_type": "code",
   "execution_count": 55,
   "metadata": {},
   "outputs": [
    {
     "name": "stdout",
     "output_type": "stream",
     "text": [
      "conv1: Tensor(\"Relu_9:0\", shape=(39000, 28, 28, 32), dtype=float32)\n",
      "conv1_pool: Tensor(\"MaxPool_6:0\", shape=(39000, 14, 14, 32), dtype=float32)\n",
      "conv2: Tensor(\"Relu_10:0\", shape=(39000, 14, 14, 64), dtype=float32)\n",
      "conv2_pool: Tensor(\"MaxPool_7:0\", shape=(39000, 7, 7, 64), dtype=float32)\n",
      "conv2_flat: Tensor(\"Reshape_26:0\", shape=(39000, 3136), dtype=float32)\n",
      "full_1: Tensor(\"Relu_11:0\", shape=(39000, 1024), dtype=float32)\n",
      "y_conv: Tensor(\"add_18:0\", shape=(39000, 10), dtype=float32)\n"
     ]
    }
   ],
   "source": [
    "print(\"conv1: \" + str(conv1))\n",
    "print(\"conv1_pool: \" + str(conv1_pool))\n",
    "print(\"conv2: \" + str(conv2))\n",
    "print(\"conv2_pool: \" + str(conv2_pool))\n",
    "print(\"conv2_flat: \" + str(conv2_flat))\n",
    "print(\"full_1: \" + str(full_1))\n",
    "print(\"y_conv: \" + str(y_conv))"
   ]
  },
  {
   "cell_type": "code",
   "execution_count": null,
   "metadata": {},
   "outputs": [
    {
     "name": "stdout",
     "output_type": "stream",
     "text": [
      "step 0, training accuracy 0.093282051384449\n",
      "step 1, training accuracy 0.09797435998916626\n",
      "step 2, training accuracy 0.10251282155513763\n",
      "step 3, training accuracy 0.10576923191547394\n",
      "step 4, training accuracy 0.1066666692495346\n",
      "step 5, training accuracy 0.10689743608236313\n",
      "step 6, training accuracy 0.10725641250610352\n",
      "step 7, training accuracy 0.10628204792737961\n",
      "step 8, training accuracy 0.10276923328638077\n",
      "step 9, training accuracy 0.10364102572202682\n",
      "step 10, training accuracy 0.09948717802762985\n",
      "step 11, training accuracy 0.09846153855323792\n"
     ]
    }
   ],
   "source": [
    "with tf.Session() as sess:\n",
    "    sess.run(tf.global_variables_initializer())\n",
    "    for i in range(1000):\n",
    "        if i % 1 == 0:\n",
    "            train_accuracy = sess.run(accuracy, feed_dict={keep_prob: 1.0})\n",
    "            print(\"step {}, training accuracy {}\".format(i, train_accuracy))   \n",
    "        \n",
    "        sess.run(train_step, feed_dict={keep_prob: 0.5})\n",
    "            \n",
    "        "
   ]
  },
  {
   "cell_type": "code",
   "execution_count": null,
   "metadata": {},
   "outputs": [],
   "source": []
  }
 ],
 "metadata": {
  "kernelspec": {
   "display_name": "Python 3",
   "language": "python",
   "name": "python3"
  },
  "language_info": {
   "codemirror_mode": {
    "name": "ipython",
    "version": 3
   },
   "file_extension": ".py",
   "mimetype": "text/x-python",
   "name": "python",
   "nbconvert_exporter": "python",
   "pygments_lexer": "ipython3",
   "version": "3.6.3"
  }
 },
 "nbformat": 4,
 "nbformat_minor": 1
}
